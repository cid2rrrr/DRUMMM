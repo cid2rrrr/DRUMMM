{
 "cells": [
  {
   "cell_type": "code",
   "execution_count": 1,
   "metadata": {},
   "outputs": [],
   "source": [
    "import mido\n"
   ]
  },
  {
   "cell_type": "code",
   "execution_count": 26,
   "metadata": {},
   "outputs": [],
   "source": [
    "mid = mido.MidiFile()"
   ]
  },
  {
   "cell_type": "code",
   "execution_count": 27,
   "metadata": {},
   "outputs": [],
   "source": [
    "mid.ticks_per_beat = 600"
   ]
  },
  {
   "cell_type": "code",
   "execution_count": 28,
   "metadata": {},
   "outputs": [],
   "source": [
    "track = mido.MidiTrack()\n",
    "\n",
    "mid.tracks.append(track)"
   ]
  },
  {
   "cell_type": "code",
   "execution_count": 29,
   "metadata": {},
   "outputs": [],
   "source": [
    "imsi = [300, 300, 600, 150]"
   ]
  },
  {
   "cell_type": "code",
   "execution_count": 30,
   "metadata": {},
   "outputs": [],
   "source": [
    "for i in range(len(imsi)):\n",
    "    track.append(mido.Message('note_on', note=60, velocity=100, time = imsi[i]))\n",
    "    if i + 1 < len(imsi):\n",
    "        track.append(mido.Message('note_off', note=60, velocity=0, time = imsi[i+1]))\n",
    "    else:\n",
    "        track.append(mido.Message('note_off', note=60, velocity=0, time = imsi[i]+150))"
   ]
  },
  {
   "cell_type": "code",
   "execution_count": 31,
   "metadata": {},
   "outputs": [],
   "source": [
    "mid.save('imsi.midi')"
   ]
  },
  {
   "cell_type": "code",
   "execution_count": 42,
   "metadata": {},
   "outputs": [
    {
     "name": "stdout",
     "output_type": "stream",
     "text": [
      "note_on channel=0 note=60 velocity=100 time=300\n",
      "note_off channel=0 note=60 velocity=0 time=300\n",
      "note_on channel=0 note=60 velocity=100 time=300\n",
      "note_off channel=0 note=60 velocity=0 time=600\n",
      "note_on channel=0 note=60 velocity=100 time=600\n",
      "note_off channel=0 note=60 velocity=0 time=150\n",
      "note_on channel=0 note=60 velocity=100 time=150\n",
      "note_off channel=0 note=60 velocity=0 time=300\n"
     ]
    }
   ],
   "source": [
    "for msg in mid.tracks[0]:\n",
    "    print(msg)"
   ]
  },
  {
   "cell_type": "code",
   "execution_count": null,
   "metadata": {},
   "outputs": [],
   "source": []
  }
 ],
 "metadata": {
  "kernelspec": {
   "display_name": "spleeter",
   "language": "python",
   "name": "python3"
  },
  "language_info": {
   "codemirror_mode": {
    "name": "ipython",
    "version": 3
   },
   "file_extension": ".py",
   "mimetype": "text/x-python",
   "name": "python",
   "nbconvert_exporter": "python",
   "pygments_lexer": "ipython3",
   "version": "3.9.12"
  }
 },
 "nbformat": 4,
 "nbformat_minor": 2
}
